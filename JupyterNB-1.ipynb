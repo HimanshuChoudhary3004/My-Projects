{
 "cells": [
  {
   "cell_type": "code",
<<<<<<< HEAD
   "execution_count": 1,
=======
   "execution_count": 4,
>>>>>>> 1825f4fc2e2056de5033f3075b255196338cf3b1
   "metadata": {},
   "outputs": [],
   "source": [
    "# Importing main libraries mm\n",
    "import numpy as np\n",
    "import pandas as pd\n",
    "import matplotlib.pyplot as plt\n",
    "import matplotlib_inline\n",
    "import seaborn as sns"
   ]
  },
  {
   "cell_type": "code",
<<<<<<< HEAD
   "execution_count": 2,
=======
   "execution_count": 10,
>>>>>>> 1825f4fc2e2056de5033f3075b255196338cf3b1
   "metadata": {},
   "outputs": [
    {
     "data": {
      "text/html": [
       "<div>\n",
       "<style scoped>\n",
       "    .dataframe tbody tr th:only-of-type {\n",
       "        vertical-align: middle;\n",
       "    }\n",
       "\n",
       "    .dataframe tbody tr th {\n",
       "        vertical-align: top;\n",
       "    }\n",
       "\n",
       "    .dataframe thead th {\n",
       "        text-align: right;\n",
       "    }\n",
       "</style>\n",
       "<table border=\"1\" class=\"dataframe\">\n",
       "  <thead>\n",
       "    <tr style=\"text-align: right;\">\n",
       "      <th></th>\n",
       "      <th>TV</th>\n",
       "      <th>radio</th>\n",
       "      <th>newspaper</th>\n",
       "      <th>sales</th>\n",
       "    </tr>\n",
       "  </thead>\n",
       "  <tbody>\n",
       "    <tr>\n",
       "      <th>0</th>\n",
       "      <td>230.1</td>\n",
       "      <td>37.8</td>\n",
       "      <td>69.2</td>\n",
       "      <td>22.1</td>\n",
       "    </tr>\n",
       "    <tr>\n",
       "      <th>1</th>\n",
       "      <td>44.5</td>\n",
       "      <td>39.3</td>\n",
       "      <td>45.1</td>\n",
       "      <td>10.4</td>\n",
       "    </tr>\n",
       "    <tr>\n",
       "      <th>2</th>\n",
       "      <td>17.2</td>\n",
       "      <td>45.9</td>\n",
       "      <td>69.3</td>\n",
       "      <td>9.3</td>\n",
       "    </tr>\n",
       "    <tr>\n",
       "      <th>3</th>\n",
       "      <td>151.5</td>\n",
       "      <td>41.3</td>\n",
       "      <td>58.5</td>\n",
       "      <td>18.5</td>\n",
       "    </tr>\n",
       "    <tr>\n",
       "      <th>4</th>\n",
       "      <td>180.8</td>\n",
       "      <td>10.8</td>\n",
       "      <td>58.4</td>\n",
       "      <td>12.9</td>\n",
       "    </tr>\n",
       "  </tbody>\n",
       "</table>\n",
       "</div>"
      ],
      "text/plain": [
       "      TV  radio  newspaper  sales\n",
       "0  230.1   37.8       69.2   22.1\n",
       "1   44.5   39.3       45.1   10.4\n",
       "2   17.2   45.9       69.3    9.3\n",
       "3  151.5   41.3       58.5   18.5\n",
       "4  180.8   10.8       58.4   12.9"
      ]
     },
<<<<<<< HEAD
     "execution_count": 2,
=======
     "execution_count": 10,
>>>>>>> 1825f4fc2e2056de5033f3075b255196338cf3b1
     "metadata": {},
     "output_type": "execute_result"
    }
   ],
   "source": [
    "# Importing data from system, we have our data in CSV form\n",
    "df=pd.read_csv(\"C:/Users/hchou/OneDrive/Desktop/Advertising.csv\")\n",
    "df.head()        # Checking head of the data"
   ]
  },
  {
   "cell_type": "code",
<<<<<<< HEAD
   "execution_count": 5,
   "metadata": {},
   "outputs": [
    {
     "data": {
      "text/plain": [
       "<seaborn.axisgrid.FacetGrid at 0x1758d6ab4f0>"
      ]
     },
     "execution_count": 5,
     "metadata": {},
     "output_type": "execute_result"
    },
    {
     "data": {
      "image/png": "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",
      "text/plain": [
       "<Figure size 500x500 with 1 Axes>"
      ]
     },
     "metadata": {},
     "output_type": "display_data"
    }
   ],
   "source": [
    "sns.displot(df['radio'])"
   ]
  },
  {
   "cell_type": "code",
=======
>>>>>>> 1825f4fc2e2056de5033f3075b255196338cf3b1
   "execution_count": null,
   "metadata": {},
   "outputs": [],
   "source": []
  }
 ],
 "metadata": {
  "kernelspec": {
   "display_name": "myenv",
   "language": "python",
   "name": "python3"
  },
  "language_info": {
   "codemirror_mode": {
    "name": "ipython",
    "version": 3
   },
   "file_extension": ".py",
   "mimetype": "text/x-python",
   "name": "python",
   "nbconvert_exporter": "python",
   "pygments_lexer": "ipython3",
   "version": "3.10.13"
  }
 },
 "nbformat": 4,
 "nbformat_minor": 2
}
